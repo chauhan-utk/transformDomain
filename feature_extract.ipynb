{
 "cells": [
  {
   "cell_type": "markdown",
   "metadata": {},
   "source": [
    "Extract features for different datasets."
   ]
  },
  {
   "cell_type": "code",
   "execution_count": 1,
   "metadata": {
    "ExecuteTime": {
     "end_time": "2018-04-07T06:19:07.461511Z",
     "start_time": "2018-04-07T06:19:07.456826Z"
    }
   },
   "outputs": [
    {
     "name": "stdout",
     "output_type": "stream",
     "text": [
      "env: CUDA_DEVICE_ORDER=PCI_BUS_ID\n",
      "env: CUDA_VISIBLE_DEVICES=3\n"
     ]
    }
   ],
   "source": [
    "%set_env CUDA_DEVICE_ORDER=PCI_BUS_ID\n",
    "%set_env CUDA_VISIBLE_DEVICES=3"
   ]
  },
  {
   "cell_type": "code",
   "execution_count": 2,
   "metadata": {
    "ExecuteTime": {
     "end_time": "2018-04-07T06:19:09.327207Z",
     "start_time": "2018-04-07T06:19:08.377693Z"
    },
    "collapsed": true
   },
   "outputs": [],
   "source": [
    "from config import domainData\n",
    "from config import num_classes as NUM_CLASSES\n",
    "from torchvision import datasets, models, transforms\n",
    "import pickle as pkl\n",
    "import numpy as np\n",
    "import logit"
   ]
  },
  {
   "cell_type": "code",
   "execution_count": 3,
   "metadata": {
    "ExecuteTime": {
     "end_time": "2018-04-07T06:19:10.325574Z",
     "start_time": "2018-04-07T06:19:10.322324Z"
    },
    "collapsed": true
   },
   "outputs": [],
   "source": [
    "import torch\n",
    "import torch.nn as nn\n",
    "from torch.autograd import Variable"
   ]
  },
  {
   "cell_type": "code",
   "execution_count": 7,
   "metadata": {
    "ExecuteTime": {
     "end_time": "2018-04-07T06:22:16.985033Z",
     "start_time": "2018-04-07T06:22:16.964325Z"
    },
    "collapsed": true
   },
   "outputs": [],
   "source": [
    "def get_model(model):\n",
    "    net, feature_size = None, None\n",
    "    if model == 'resnet50':\n",
    "        resnet = models.resnet50(pretrained=True)\n",
    "        resnet.fc = logit.flatten()\n",
    "        net = resnet\n",
    "        feature_size = 2048\n",
    "    elif model == 'alexnet':\n",
    "        alexnet = models.alexnet(pretrained=True)\n",
    "        alexnet.classifier = nn.Sequential(*list(alexnet.classifier.children())[:-2])\n",
    "        net = alexnet\n",
    "        feature_size = 4096\n",
    "    elif model == 'vgg16':\n",
    "        net = models.vgg16(pretrained=True)\n",
    "        net.classifier = nn.Sequential(*list(net.classifier.children())[:-2])\n",
    "        feature_size = 4096\n",
    "    return net, feature_size        "
   ]
  },
  {
   "cell_type": "code",
   "execution_count": 8,
   "metadata": {
    "ExecuteTime": {
     "end_time": "2018-04-07T06:22:48.644299Z",
     "start_time": "2018-04-07T06:22:40.104318Z"
    },
    "collapsed": true
   },
   "outputs": [],
   "source": [
    "model = 'vgg16'\n",
    "\n",
    "net, feature_size = get_model(model)"
   ]
  },
  {
   "cell_type": "markdown",
   "metadata": {
    "ExecuteTime": {
     "end_time": "2018-04-07T02:13:32.456157Z",
     "start_time": "2018-04-07T02:13:32.453133Z"
    },
    "collapsed": true
   },
   "source": [
    "net = nn.Sequential(*list(resnet.children())[:-1])\n",
    "net.add_module(\"flatten\", logit.flatten())"
   ]
  },
  {
   "cell_type": "code",
   "execution_count": 9,
   "metadata": {
    "ExecuteTime": {
     "end_time": "2018-04-07T06:22:53.379867Z",
     "start_time": "2018-04-07T06:22:53.372837Z"
    },
    "collapsed": true
   },
   "outputs": [],
   "source": [
    "use_gpu = True\n",
    "train_dir = domainData['amazon'] # 'amazon', 'dslr', 'webcam'\n",
    "val_dir = domainData['webcam']\n",
    "num_classes = NUM_CLASSES['office']\n",
    "batch_size = 1"
   ]
  },
  {
   "cell_type": "code",
   "execution_count": 11,
   "metadata": {
    "ExecuteTime": {
     "end_time": "2018-04-07T06:23:07.763006Z",
     "start_time": "2018-04-07T06:23:05.441098Z"
    }
   },
   "outputs": [],
   "source": [
    "# net = resnet.cuda() if use_gpu else resnet\n",
    "net = net.cuda() if use_gpu else net"
   ]
  },
  {
   "cell_type": "code",
   "execution_count": 12,
   "metadata": {
    "ExecuteTime": {
     "end_time": "2018-04-07T06:23:11.027703Z",
     "start_time": "2018-04-07T06:23:10.977649Z"
    },
    "collapsed": true
   },
   "outputs": [],
   "source": [
    "data_transforms = transforms.Compose([\n",
    "        transforms.Resize(256),\n",
    "        transforms.CenterCrop(224),\n",
    "        transforms.ToTensor(),\n",
    "        transforms.Normalize([0.485, 0.456, 0.406], [0.229, 0.224, 0.225])\n",
    "    ])\n",
    "image_datasets = {'train' : datasets.ImageFolder(train_dir,\n",
    "                                          data_transforms),\n",
    "                  'val' : datasets.ImageFolder(val_dir,\n",
    "                                          data_transforms)\n",
    "                 }"
   ]
  },
  {
   "cell_type": "code",
   "execution_count": 13,
   "metadata": {
    "ExecuteTime": {
     "end_time": "2018-04-07T06:23:12.819173Z",
     "start_time": "2018-04-07T06:23:12.814333Z"
    },
    "collapsed": true
   },
   "outputs": [],
   "source": [
    "dataloaders = {x: torch.utils.data.DataLoader(image_datasets[x], batch_size=batch_size,\n",
    "                                             shuffle=True, num_workers=0, drop_last=False)\n",
    "              for x in ['train', 'val']}"
   ]
  },
  {
   "cell_type": "code",
   "execution_count": 14,
   "metadata": {
    "ExecuteTime": {
     "end_time": "2018-04-07T06:23:16.256403Z",
     "start_time": "2018-04-07T06:23:16.253901Z"
    },
    "collapsed": true
   },
   "outputs": [],
   "source": [
    "dataset = image_datasets['val']"
   ]
  },
  {
   "cell_type": "code",
   "execution_count": 15,
   "metadata": {
    "ExecuteTime": {
     "end_time": "2018-04-07T06:23:16.996513Z",
     "start_time": "2018-04-07T06:23:16.990149Z"
    }
   },
   "outputs": [
    {
     "data": {
      "text/plain": [
       "795"
      ]
     },
     "execution_count": 15,
     "metadata": {},
     "output_type": "execute_result"
    }
   ],
   "source": [
    "total_data_len = len(dataset)\n",
    "total_data_len"
   ]
  },
  {
   "cell_type": "code",
   "execution_count": 16,
   "metadata": {
    "ExecuteTime": {
     "end_time": "2018-04-07T06:23:18.009982Z",
     "start_time": "2018-04-07T06:23:17.974386Z"
    },
    "collapsed": true
   },
   "outputs": [],
   "source": [
    "img, lbl = dataset[0]"
   ]
  },
  {
   "cell_type": "code",
   "execution_count": 17,
   "metadata": {
    "ExecuteTime": {
     "end_time": "2018-04-07T06:23:18.854140Z",
     "start_time": "2018-04-07T06:23:18.849316Z"
    }
   },
   "outputs": [
    {
     "name": "stdout",
     "output_type": "stream",
     "text": [
      "<class 'torch.FloatTensor'> torch.Size([3, 224, 224]) <class 'int'> 0\n"
     ]
    }
   ],
   "source": [
    "print(type(img), img.size(), type(lbl), lbl)\n"
   ]
  },
  {
   "cell_type": "markdown",
   "metadata": {
    "ExecuteTime": {
     "end_time": "2018-04-07T02:43:25.679490Z",
     "start_time": "2018-04-07T02:29:37.550775Z"
    },
    "code_folding": []
   },
   "source": [
    "imgs = []\n",
    "lbls = []\n",
    "def extract_feat():\n",
    "    global imgs\n",
    "    global lbls\n",
    "    for i in range(total_data_len):\n",
    "        img, lbl = dataset[i]\n",
    "        img = img.cuda() if use_gpu else img\n",
    "        img = net(Variable(img.unsqueeze(0)))\n",
    "        imgs += [img.squeeze(0).data]\n",
    "        lbls += [lbl]\n",
    "    return\n",
    "%time extract_feat()"
   ]
  },
  {
   "cell_type": "code",
   "execution_count": 18,
   "metadata": {
    "ExecuteTime": {
     "end_time": "2018-04-07T06:23:44.401382Z",
     "start_time": "2018-04-07T06:23:30.525995Z"
    }
   },
   "outputs": [
    {
     "name": "stdout",
     "output_type": "stream",
     "text": [
      "CPU times: user 1min 11s, sys: 5.71 s, total: 1min 17s\n",
      "Wall time: 13.9 s\n"
     ]
    }
   ],
   "source": [
    "imgs = None\n",
    "lbls = None\n",
    "def extract_feat2():\n",
    "    global imgs\n",
    "    global lbls\n",
    "    data_iter = iter(dataloaders['val'])\n",
    "    for img, lbl in data_iter:\n",
    "        img = img.cuda() if use_gpu else img\n",
    "        img = net(Variable(img))\n",
    "        if imgs is None:\n",
    "            imgs = img.cpu().data.numpy()\n",
    "            lbls = lbl\n",
    "        else:\n",
    "            imgs = np.vstack([imgs, img.cpu().data.numpy()])\n",
    "            lbls = np.vstack([lbls, lbl])\n",
    "    return\n",
    "%time extract_feat2()"
   ]
  },
  {
   "cell_type": "code",
   "execution_count": 35,
   "metadata": {
    "ExecuteTime": {
     "end_time": "2018-04-07T06:08:29.387205Z",
     "start_time": "2018-04-07T06:08:29.382962Z"
    }
   },
   "outputs": [
    {
     "data": {
      "text/plain": [
       "(795, 4096)"
      ]
     },
     "execution_count": 35,
     "metadata": {},
     "output_type": "execute_result"
    }
   ],
   "source": [
    "imgs.shape"
   ]
  },
  {
   "cell_type": "code",
   "execution_count": 38,
   "metadata": {
    "ExecuteTime": {
     "end_time": "2018-04-07T06:08:42.297123Z",
     "start_time": "2018-04-07T06:08:42.293159Z"
    }
   },
   "outputs": [
    {
     "name": "stdout",
     "output_type": "stream",
     "text": [
      "[28]\n"
     ]
    }
   ],
   "source": [
    "print(lbls[794])"
   ]
  },
  {
   "cell_type": "code",
   "execution_count": 39,
   "metadata": {
    "ExecuteTime": {
     "end_time": "2018-04-07T06:08:43.884326Z",
     "start_time": "2018-04-07T06:08:43.876317Z"
    },
    "collapsed": true
   },
   "outputs": [],
   "source": [
    "features = {\n",
    "    'features': imgs,\n",
    "    'labels': lbls\n",
    "}"
   ]
  },
  {
   "cell_type": "code",
   "execution_count": 40,
   "metadata": {
    "ExecuteTime": {
     "end_time": "2018-04-07T06:08:51.410165Z",
     "start_time": "2018-04-07T06:08:51.248220Z"
    },
    "collapsed": true
   },
   "outputs": [],
   "source": [
    "with open(\"webcam_alexnet_4096.pkl\", \"wb\") as f:\n",
    "    pkl.dump(features, f, pkl.HIGHEST_PROTOCOL)"
   ]
  },
  {
   "cell_type": "code",
   "execution_count": 33,
   "metadata": {
    "ExecuteTime": {
     "end_time": "2018-04-07T06:06:12.732937Z",
     "start_time": "2018-04-07T06:06:12.437807Z"
    }
   },
   "outputs": [
    {
     "name": "stdout",
     "output_type": "stream",
     "text": [
      "total 263268\r\n",
      "-rw-r--r--  1 utkrsh gpu     5196 Mar 13 09:55 advDomain.py\r\n",
      "-rw-r--r--  1 utkrsh gpu 44628150 Apr  7 11:06 amazon_4096.yml\r\n",
      "-rw-r--r--  1 utkrsh gpu 46176525 Apr  7  2018 amazon_alexnet_4096.pkl\r\n",
      "-rw-r--r--  1 utkrsh gpu 23099661 Apr  7 10:25 amazon_resnet50.pkl\r\n",
      "-rw-r--r--  1 utkrsh gpu     2774 Feb 26 16:01 checkVisDA.py\r\n",
      "-rw-r--r--  1 utkrsh gpu    64058 Mar 10 23:45 classifier_dump.pth\r\n",
      "-rw-r--r--  1 utkrsh gpu     9352 Feb 23 18:28 classifier.ipynb\r\n",
      "-rw-r--r--  1 utkrsh gpu      679 Apr  6 13:22 config.py\r\n",
      "-rw-r--r--  1 utkrsh gpu    13780 Apr  7 11:35 feature_extract.ipynb\r\n",
      "-rw-r--r--  1 utkrsh gpu 44757600 Mar 10 23:45 features_dump.pth\r\n",
      "-rw-r--r--  1 utkrsh gpu     8993 Mar  9 10:27 grl_combineDmnTrns.py\r\n",
      "-rw-r--r--  1 utkrsh gpu    13656 Feb 23 18:28 grl.ipynb\r\n",
      "-rw-r--r--  1 utkrsh gpu 44956012 Feb 23 18:28 grl_model.pth\r\n",
      "-rw-r--r--  1 utkrsh gpu 45219745 Feb 28 21:26 grl_model_with_transform.pth\r\n",
      "-rw-r--r--  1 utkrsh gpu     8511 Mar  3 23:25 grl_only.py\r\n",
      "-rw-r--r--  1 utkrsh gpu     2166 Feb 23 18:28 grl_r1.txt\r\n",
      "-rw-r--r--  1 utkrsh gpu     9381 Feb 28 17:25 grl_revtransforminfer.py\r\n",
      "-rw-r--r--  1 utkrsh gpu     5660 Mar 13 16:31 grl_train_classifier.py\r\n",
      "-rw-r--r--  1 utkrsh gpu     8719 Mar 13 11:00 grl_transform_2step.py\r\n",
      "-rw-r--r--  1 utkrsh gpu    14730 Feb 24 00:17 grl_transform_cnn.ipynb\r\n",
      "-rw-r--r--  1 utkrsh gpu     9240 Feb 25 22:25 grl_transform_cnn.py\r\n",
      "-rw-r--r--  1 utkrsh gpu     9123 Feb 27 11:34 grl_transforminfer.py\r\n",
      "-rw-r--r--  1 utkrsh gpu     8949 Mar 12 15:26 grl_transform.py\r\n",
      "-rw-r--r--  1 utkrsh gpu     9680 Mar  8 16:02 grl_transform_splittensor.py\r\n",
      "-rw-r--r--  1 utkrsh gpu     2467 Mar 10 22:18 logger.py\r\n",
      "-rw-r--r--  1 utkrsh gpu     3538 Apr  5 12:50 logit.py\r\n",
      "drwxr-xr-x 14 utkrsh gpu     4096 Mar 17 15:27 logs\r\n",
      "-rw-r--r--  1 utkrsh gpu      886 Feb 23 18:28 main.py\r\n",
      "drwxr-xr-x  2 utkrsh gpu     4096 Apr  7 11:16 __pycache__\r\n",
      "-rw-r--r--  1 utkrsh gpu     2168 Feb 23 18:28 results_classifier.txt\r\n",
      "-rw-r--r--  1 utkrsh gpu      569 Feb 23 18:28 se_module.py\r\n",
      "drwxr-xr-x  2 utkrsh gpu     4096 Apr  7 09:55 test_logs\r\n",
      "-rw-r--r--  1 utkrsh gpu    36636 Apr  7 11:28 Untitled.ipynb\r\n",
      "-rw-r--r--  1 utkrsh gpu     2739 Apr  7 10:44 utils.py\r\n",
      "-rw-r--r--  1 utkrsh gpu     7978 Feb 26 15:51 visDA_grl_only.py\r\n",
      "-rw-r--r--  1 utkrsh gpu     9065 Mar 13 09:39 visDA_grl_transform.py\r\n",
      "-rw-r--r--  1 utkrsh gpu     5131 Apr  2 09:40 wdDomain.py\r\n",
      "-rw-r--r--  1 utkrsh gpu     3316 Apr  7 09:54 wdStackDomain1.py\r\n",
      "-rw-r--r--  1 utkrsh gpu     4402 Apr  5 11:00 wdStackDomain.py\r\n",
      "-rw-r--r--  1 utkrsh gpu    12081 Apr  7 09:55 wdStack_train1.py\r\n",
      "-rw-r--r--  1 utkrsh gpu    10221 Apr  3 12:36 wdStack_train_2step.py\r\n",
      "-rw-r--r--  1 utkrsh gpu    11921 Apr  6 11:25 wdStack_train.py\r\n",
      "-rw-r--r--  1 utkrsh gpu     9708 Apr  2 11:38 wd_train_2step.py\r\n",
      "-rw-r--r--  1 utkrsh gpu     9899 Apr  1 18:59 wd_train_2steps_2.py\r\n",
      "-rw-r--r--  1 utkrsh gpu    14497 Apr  5 10:38 wd_train_classifier.py\r\n",
      "-rw-r--r--  1 utkrsh gpu     9420 Mar 23 00:01 wd_train.py\r\n",
      "-rw-r--r--  1 utkrsh gpu 13743247 Apr  7 10:58 webcam_4096.yml\r\n",
      "-rw-r--r--  1 utkrsh gpu  6519261 Apr  7 10:27 webcam_resnet50.pkl\r\n"
     ]
    }
   ],
   "source": [
    "!ls -l"
   ]
  }
 ],
 "metadata": {
  "kernelspec": {
   "display_name": "Python 3",
   "language": "python",
   "name": "python3"
  },
  "language_info": {
   "codemirror_mode": {
    "name": "ipython",
    "version": 3
   },
   "file_extension": ".py",
   "mimetype": "text/x-python",
   "name": "python",
   "nbconvert_exporter": "python",
   "pygments_lexer": "ipython3",
   "version": "3.6.2"
  }
 },
 "nbformat": 4,
 "nbformat_minor": 2
}
