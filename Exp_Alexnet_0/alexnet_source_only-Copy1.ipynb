{
 "cells": [
  {
   "cell_type": "code",
   "execution_count": 26,
   "metadata": {
    "ExecuteTime": {
     "end_time": "2018-04-17T16:52:45.942957Z",
     "start_time": "2018-04-17T16:52:45.940791Z"
    },
    "collapsed": true
   },
   "outputs": [],
   "source": [
    "gpu=0"
   ]
  },
  {
   "cell_type": "code",
   "execution_count": 72,
   "metadata": {
    "ExecuteTime": {
     "end_time": "2018-04-17T18:02:30.447364Z",
     "start_time": "2018-04-17T18:02:30.425713Z"
    },
    "collapsed": true
   },
   "outputs": [],
   "source": [
    "import sys\n",
    "sys.path.append('../')\n",
    "%matplotlib inline\n",
    "from config import domainData\n",
    "from config import num_classes as NUM_CLASSES\n",
    "import torch\n",
    "import torch.nn as nn\n",
    "import torch.nn.init as init\n",
    "import torch.optim as optim\n",
    "import torch.nn.functional as F\n",
    "from torch.autograd import Variable\n",
    "import torchvision.models as models\n",
    "import torchvision\n",
    "import utils\n",
    "from torchvision import datasets, transforms\n",
    "import numpy as np\n",
    "import itertools\n",
    "import matplotlib.pyplot as plt\n",
    "from sklearn.metrics import confusion_matrix\n",
    "from alexnet import alexnet"
   ]
  },
  {
   "cell_type": "code",
   "execution_count": 28,
   "metadata": {
    "ExecuteTime": {
     "end_time": "2018-04-17T16:52:46.799403Z",
     "start_time": "2018-04-17T16:52:46.139662Z"
    },
    "collapsed": true
   },
   "outputs": [],
   "source": [
    "net = alexnet\n",
    "net.load_state_dict(torch.load('alexnet.pth'))\n",
    "# print(net)"
   ]
  },
  {
   "cell_type": "code",
   "execution_count": 29,
   "metadata": {
    "ExecuteTime": {
     "end_time": "2018-04-17T16:52:46.911370Z",
     "start_time": "2018-04-17T16:52:46.800861Z"
    }
   },
   "outputs": [
    {
     "name": "stdout",
     "output_type": "stream",
     "text": [
      "Sequential(\n",
      "  (0): Conv2d(3, 96, kernel_size=(11, 11), stride=(4, 4))\n",
      "  (1): ReLU(inplace)\n",
      "  (2): LocalResponseNorm(5, alpha=0.0001, beta=0.75, k=1)\n",
      "  (3): MaxPool2d(kernel_size=(3, 3), stride=(2, 2), dilation=(1, 1), ceil_mode=True)\n",
      "  (4): Conv2d(96, 256, kernel_size=(5, 5), stride=(1, 1), padding=(2, 2), groups=2)\n",
      "  (5): ReLU(inplace)\n",
      "  (6): LocalResponseNorm(5, alpha=0.0001, beta=0.75, k=1)\n",
      "  (7): MaxPool2d(kernel_size=(3, 3), stride=(2, 2), dilation=(1, 1), ceil_mode=True)\n",
      "  (8): Conv2d(256, 384, kernel_size=(3, 3), stride=(1, 1), padding=(1, 1))\n",
      "  (9): ReLU(inplace)\n",
      "  (10): Conv2d(384, 384, kernel_size=(3, 3), stride=(1, 1), padding=(1, 1), groups=2)\n",
      "  (11): ReLU(inplace)\n",
      "  (12): Conv2d(384, 256, kernel_size=(3, 3), stride=(1, 1), padding=(1, 1), groups=2)\n",
      "  (13): ReLU(inplace)\n",
      "  (14): MaxPool2d(kernel_size=(3, 3), stride=(2, 2), dilation=(1, 1), ceil_mode=True)\n",
      "  (15): Lambda(\n",
      "  )\n",
      "  (16): Sequential(\n",
      "    (0): Lambda(\n",
      "    )\n",
      "    (1): Linear(in_features=9216, out_features=4096, bias=True)\n",
      "  )\n",
      "  (17): ReLU(inplace)\n",
      "  (18): Dropout(p=0.5)\n",
      "  (19): Sequential(\n",
      "    (0): Lambda(\n",
      "    )\n",
      "    (1): Linear(in_features=4096, out_features=4096, bias=True)\n",
      "  )\n",
      "  (20): ReLU(inplace)\n",
      "  (21): Dropout(p=0.5)\n",
      ")\n"
     ]
    }
   ],
   "source": [
    "net = nn.Sequential(*list(net.children())[:-2])\n",
    "print(net)"
   ]
  },
  {
   "cell_type": "code",
   "execution_count": 30,
   "metadata": {
    "ExecuteTime": {
     "end_time": "2018-04-17T16:52:47.107716Z",
     "start_time": "2018-04-17T16:52:46.913343Z"
    },
    "collapsed": true
   },
   "outputs": [],
   "source": [
    "src = domainData['amazon']\n",
    "tar = domainData['webcam']"
   ]
  },
  {
   "cell_type": "code",
   "execution_count": 31,
   "metadata": {
    "ExecuteTime": {
     "end_time": "2018-04-17T16:52:47.252428Z",
     "start_time": "2018-04-17T16:52:47.111110Z"
    },
    "collapsed": true
   },
   "outputs": [],
   "source": [
    "src_transforms = transforms.Compose([\n",
    "    transforms.Resize(256),\n",
    "#     transforms.CenterCrop(227),\n",
    "#     transforms.RandomVerticalFlip(),\n",
    "    transforms.RandomResizedCrop(227, scale=(0.50,1.0), ratio=(1.,1.)),\n",
    "#     transforms.RandomHorizontalFlip(),\n",
    "    transforms.ToTensor(),\n",
    "    transforms.Normalize(mean=[0.485, 0.456, 0.406],\n",
    "                        std=[1.,1.,1.]),\n",
    "    transforms.Lambda(lambda x: torch.stack([x[2],x[1],x[0]])), # RGB -> BGR\n",
    "    transforms.Lambda(lambda x: x * 255.)\n",
    "])\n",
    "tar_transforms = transforms.Compose([\n",
    "    transforms.Resize(256),\n",
    "    transforms.CenterCrop(227),\n",
    "#     transforms.RandomResizedCrop(224, scale=(0.25,1.0)),\n",
    "    transforms.ToTensor(),\n",
    "    transforms.Normalize(mean=[0.485, 0.456, 0.406],\n",
    "                        std=[1.,1.,1.]),\n",
    "    transforms.Lambda(lambda x: torch.stack([x[2],x[1],x[0]])),\n",
    "    transforms.Lambda(lambda x: x * 255.)\n",
    "])"
   ]
  },
  {
   "cell_type": "code",
   "execution_count": 32,
   "metadata": {
    "ExecuteTime": {
     "end_time": "2018-04-17T16:52:47.491545Z",
     "start_time": "2018-04-17T16:52:47.254390Z"
    },
    "collapsed": true
   },
   "outputs": [],
   "source": [
    "src_dataset = datasets.ImageFolder(src, transform=src_transforms)\n",
    "tar_dataset = datasets.ImageFolder(tar, transform=tar_transforms)\n",
    "srcSampler = torch.utils.data.sampler.RandomSampler(src_dataset)\n",
    "tarSampler = torch.utils.data.sampler.RandomSampler(tar_dataset)\n",
    "srcDataLen = len(src_dataset)\n",
    "tarDataLen = len(tar_dataset)\n",
    "use_gpu = True and torch.cuda.is_available()"
   ]
  },
  {
   "cell_type": "code",
   "execution_count": 33,
   "metadata": {
    "ExecuteTime": {
     "end_time": "2018-04-17T16:52:47.582044Z",
     "start_time": "2018-04-17T16:52:47.493806Z"
    },
    "collapsed": true
   },
   "outputs": [],
   "source": [
    "opt = {\n",
    "    'src': 'Amazon',\n",
    "    'tar': 'Webcam',\n",
    "    'manual_seed':1,\n",
    "    'batchSize':80,\n",
    "    'use_gpu': use_gpu,\n",
    "    'num_classes': 31,\n",
    "    'epochs': 75,\n",
    "    'momentum': 0.9,\n",
    "    'lr': 5e-4,\n",
    "    'lr_sch': 0,\n",
    "    'lr_sch_gamma': 0.1,\n",
    "    'p_lr_decay': 75,\n",
    "    'n0': 1.,\n",
    "    'alpha': 10,\n",
    "    'beta': 0.75,\n",
    "    'betas': (0.5,0.99),\n",
    "    'net_wtDcy': 1e-5,\n",
    "    'btl_wtDcy': 1e-5,\n",
    "    'srcDataLen': srcDataLen,\n",
    "    'tarDataLen': tarDataLen\n",
    "}"
   ]
  },
  {
   "cell_type": "code",
   "execution_count": 34,
   "metadata": {
    "ExecuteTime": {
     "end_time": "2018-04-17T16:52:47.738508Z",
     "start_time": "2018-04-17T16:52:47.584080Z"
    },
    "collapsed": true
   },
   "outputs": [],
   "source": [
    "torch.manual_seed(opt['manual_seed'])\n",
    "if opt['use_gpu']: torch.cuda.manual_seed(opt['manual_seed'])"
   ]
  },
  {
   "cell_type": "code",
   "execution_count": 35,
   "metadata": {
    "ExecuteTime": {
     "end_time": "2018-04-17T16:52:47.894548Z",
     "start_time": "2018-04-17T16:52:47.740586Z"
    }
   },
   "outputs": [
    {
     "name": "stdout",
     "output_type": "stream",
     "text": [
      "use_gpu:  True\n"
     ]
    }
   ],
   "source": [
    "print(\"use_gpu: \", opt['use_gpu'])"
   ]
  },
  {
   "cell_type": "code",
   "execution_count": 36,
   "metadata": {
    "ExecuteTime": {
     "end_time": "2018-04-17T16:52:48.050769Z",
     "start_time": "2018-04-17T16:52:47.896610Z"
    },
    "collapsed": true
   },
   "outputs": [],
   "source": [
    "src_dataloader = torch.utils.data.DataLoader(src_dataset, batch_size=opt['batchSize'], \n",
    "                                             shuffle=(srcSampler is None), sampler=srcSampler,\n",
    "                                            num_workers=2, pin_memory=True, drop_last=False)\n",
    "tar_dataloader = torch.utils.data.DataLoader(tar_dataset, batch_size=opt['batchSize'],\n",
    "                                            shuffle=(tarSampler is None), sampler=tarSampler,\n",
    "                                            num_workers=2, pin_memory=True, drop_last=False)"
   ]
  },
  {
   "cell_type": "code",
   "execution_count": 37,
   "metadata": {
    "ExecuteTime": {
     "end_time": "2018-04-17T16:52:48.217821Z",
     "start_time": "2018-04-17T16:52:48.052843Z"
    },
    "collapsed": true
   },
   "outputs": [],
   "source": [
    "def init_weights(m):\n",
    "#     print(m)\n",
    "    if isinstance(m, nn.Linear):\n",
    "        init.xavier_normal(m.weight)\n",
    "        init.constant(m.bias, 0.1)"
   ]
  },
  {
   "cell_type": "code",
   "execution_count": 38,
   "metadata": {
    "ExecuteTime": {
     "end_time": "2018-04-17T16:52:48.363122Z",
     "start_time": "2018-04-17T16:52:48.219409Z"
    },
    "collapsed": true
   },
   "outputs": [],
   "source": [
    "class Model(nn.Module):\n",
    "    def __init__(self):\n",
    "        super(Model, self).__init__()\n",
    "        self.classifier = nn.Sequential(nn.Linear(4096,256),\n",
    "                                       nn.ReLU(inplace=True), nn.Linear(256, opt['num_classes']))\n",
    "        self.classifier.apply(init_weights)\n",
    "    \n",
    "    def forward(self, x):\n",
    "        x = self.classifier(x)\n",
    "        return x"
   ]
  },
  {
   "cell_type": "code",
   "execution_count": 39,
   "metadata": {
    "ExecuteTime": {
     "end_time": "2018-04-17T16:52:48.581471Z",
     "start_time": "2018-04-17T16:52:48.365435Z"
    },
    "collapsed": true
   },
   "outputs": [],
   "source": [
    "net2 = Model()"
   ]
  },
  {
   "cell_type": "code",
   "execution_count": 40,
   "metadata": {
    "ExecuteTime": {
     "end_time": "2018-04-17T16:52:48.665807Z",
     "start_time": "2018-04-17T16:52:48.583026Z"
    },
    "collapsed": true
   },
   "outputs": [],
   "source": [
    "if opt['use_gpu']:\n",
    "    net = net.cuda()\n",
    "    net2 = net2.cuda()\n",
    "    torch.backends.cudnn.enabled=True\n",
    "    torch.backends.cudnn.benchmark=True"
   ]
  },
  {
   "cell_type": "markdown",
   "metadata": {},
   "source": [
    "To computer norm of various parameters\n",
    "\n",
    "```python\n",
    "for name, param in net2.named_parameters():\n",
    "    nrm = torch.norm(param, 2)\n",
    "    zero = param.eq(0.).float().sum()\n",
    "    nele = torch.numel(param)\n",
    "    print(name, nrm.data[0], nele, zero.data[0])\n",
    "```"
   ]
  },
  {
   "cell_type": "code",
   "execution_count": 41,
   "metadata": {
    "ExecuteTime": {
     "end_time": "2018-04-17T16:52:48.810872Z",
     "start_time": "2018-04-17T16:52:48.667495Z"
    },
    "collapsed": true
   },
   "outputs": [],
   "source": [
    "criterion = nn.CrossEntropyLoss()\n",
    "softmax = nn.Softmax(dim=1)"
   ]
  },
  {
   "cell_type": "code",
   "execution_count": 42,
   "metadata": {
    "ExecuteTime": {
     "end_time": "2018-04-17T16:52:48.967094Z",
     "start_time": "2018-04-17T16:52:48.812872Z"
    },
    "collapsed": true
   },
   "outputs": [],
   "source": [
    "netfeatwt, netfeatbias = list(), list()\n",
    "for name, param in net.named_parameters():\n",
    "    if name in ['10.weight', '12.weight', '16.1.weight', '19.1.weight']: netfeatwt.append(param)\n",
    "    elif name in ['10.bias', '12.bias', '16.1.bias', '19.1.bias']: netfeatbias.append(param)\n",
    "    else: param.requires_grad=False"
   ]
  },
  {
   "cell_type": "code",
   "execution_count": 43,
   "metadata": {
    "ExecuteTime": {
     "end_time": "2018-04-17T16:52:49.116034Z",
     "start_time": "2018-04-17T16:52:48.968622Z"
    }
   },
   "outputs": [
    {
     "name": "stdout",
     "output_type": "stream",
     "text": [
      "0.weight False\n",
      "0.bias False\n",
      "4.weight False\n",
      "4.bias False\n",
      "8.weight False\n",
      "8.bias False\n",
      "10.weight True\n",
      "10.bias True\n",
      "12.weight True\n",
      "12.bias True\n",
      "16.1.weight True\n",
      "16.1.bias True\n",
      "19.1.weight True\n",
      "19.1.bias True\n"
     ]
    }
   ],
   "source": [
    "for name, param in net.named_parameters():\n",
    "    print(name, param.requires_grad)"
   ]
  },
  {
   "cell_type": "code",
   "execution_count": 44,
   "metadata": {
    "ExecuteTime": {
     "end_time": "2018-04-17T16:52:49.270710Z",
     "start_time": "2018-04-17T16:52:49.117442Z"
    },
    "collapsed": true
   },
   "outputs": [],
   "source": [
    "net2_weight, net2_bias = list(), list()\n",
    "for name, param in net2.named_parameters():\n",
    "    if 'weight' in name: net2_weight.append(param)\n",
    "    elif 'bias' in name: net2_bias.append(param)"
   ]
  },
  {
   "cell_type": "code",
   "execution_count": 45,
   "metadata": {
    "ExecuteTime": {
     "end_time": "2018-04-17T16:52:49.448672Z",
     "start_time": "2018-04-17T16:52:49.273163Z"
    },
    "collapsed": true
   },
   "outputs": [],
   "source": [
    "sgd_params = [\n",
    "    {'params': netfeatwt, 'lr': opt['lr'], 'momentum': opt['momentum'], 'weight_decay': opt['net_wtDcy'], 'lr_mul': 1., 'name': 'netfeatwt'},\n",
    "    {'params': netfeatbias, 'lr': opt['lr'], 'momentum': opt['momentum'], 'weight_decay': opt['net_wtDcy'], 'lr_mul': 2., 'name': 'netfeatbias'},\n",
    "    {'params': net2_weight, 'lr': opt['lr'], 'momentum': opt['momentum'], 'weight_decay': opt['btl_wtDcy'], 'lr_mul': 10., 'name': 'net2wt'},\n",
    "    {'params': net2_bias, 'lr': opt['lr'], 'momentum': opt['momentum'], 'weight_decay': opt['btl_wtDcy'], 'lr_mul': 20., 'name': 'net2bias'}\n",
    "]\n",
    "\n",
    "# optimizer = optim.Adam(net2.parameters(), lr=opt['lr'], betas=opt['betas'], weight_decay=opt['weight_decay'])\n",
    "# optimizer = optim.Adam(sgd_params, betas=opt['betas'])\n",
    "\n",
    "optimizer_2 = optim.SGD(sgd_params)\n",
    "# optimizer_2 = optim.SGD(net2.parameters(), lr=opt['lr'], momentum=opt['momentum'], weight_decay=opt['btl_wtDcy'])\n",
    "\n",
    "lr_sch = None\n",
    "if opt['lr_sch']=='step': lr_sch = optim.lr_scheduler.StepLR(optimizer, 20, opt['lr_sch_gamma'])\n",
    "if opt['lr_sch']=='exponential': lr_sch = optim.lr_scheduler.ExponentialLR(optimizer_2, opt['lr_sch_gamma'])"
   ]
  },
  {
   "cell_type": "code",
   "execution_count": 46,
   "metadata": {
    "ExecuteTime": {
     "end_time": "2018-04-17T16:52:49.688640Z",
     "start_time": "2018-04-17T16:52:49.450693Z"
    },
    "collapsed": true
   },
   "outputs": [],
   "source": [
    "def get_validation_acc(cm=False):\n",
    "    tarData = iter(tar_dataloader)\n",
    "    totalCorrects = 0.\n",
    "    if cm: y_preds, y_true = list(), list()\n",
    "    for tarimgs, tarlbls in tarData:\n",
    "        tarimgs = tarimgs.cuda() if opt['use_gpu'] else tarimgs\n",
    "        tarlbls = tarlbls.cuda() if opt['use_gpu'] else tarlbls      \n",
    "        tarimgs = Variable(tarimgs, volatile=True)\n",
    "\n",
    "        feat_ = net(tarimgs)\n",
    "        logits = net2(feat_)\n",
    "\n",
    "        _, preds = torch.max(softmax(logits).data, 1)\n",
    "        totalCorrects += torch.eq(preds, tarlbls).float().sum()\n",
    "        if cm: y_preds.append(preds.cpu().numpy()), y_true.append(tarlbls.cpu().numpy())\n",
    "    valAcc = totalCorrects / opt['tarDataLen']\n",
    "    if cm: return valAcc, y_preds, y_true\n",
    "    return valAcc"
   ]
  },
  {
   "cell_type": "code",
   "execution_count": 47,
   "metadata": {
    "ExecuteTime": {
     "end_time": "2018-04-17T16:52:49.865851Z",
     "start_time": "2018-04-17T16:52:49.690830Z"
    },
    "collapsed": true
   },
   "outputs": [],
   "source": [
    "srcClsLoss_plt, srcAcc_plt, valAcc_plt = list(), list(), list()"
   ]
  },
  {
   "cell_type": "code",
   "execution_count": 48,
   "metadata": {
    "ExecuteTime": {
     "end_time": "2018-04-17T17:03:01.765876Z",
     "start_time": "2018-04-17T16:52:49.867516Z"
    }
   },
   "outputs": [
    {
     "name": "stdout",
     "output_type": "stream",
     "text": [
      "n_p:  0.910398960683\n",
      "Epoch: 1, train loss: 2.4647, train acc: 0.4178, validation acc: 0.4780\n",
      "n_p:  0.837535537332\n",
      "Epoch: 2, train loss: 1.1056, train acc: 0.7061, validation acc: 0.4591\n",
      "n_p:  0.776969504241\n",
      "Epoch: 3, train loss: 0.8686, train acc: 0.7604, validation acc: 0.5044\n",
      "n_p:  0.725725807496\n",
      "Epoch: 4, train loss: 0.7305, train acc: 0.8005, validation acc: 0.5245\n",
      "n_p:  0.68173161988\n",
      "Epoch: 5, train loss: 0.6397, train acc: 0.8165, validation acc: 0.5094\n",
      "n_p:  0.643495658493\n",
      "Epoch: 6, train loss: 0.5402, train acc: 0.8474, validation acc: 0.5057\n",
      "n_p:  0.609915886892\n",
      "Epoch: 7, train loss: 0.5016, train acc: 0.8562, validation acc: 0.5208\n",
      "n_p:  0.580159187126\n",
      "Epoch: 8, train loss: 0.4622, train acc: 0.8658, validation acc: 0.5258\n",
      "n_p:  0.55358331165\n",
      "Epoch: 9, train loss: 0.3737, train acc: 0.8843, validation acc: 0.5484\n",
      "n_p:  0.529684678724\n",
      "Epoch: 10, train loss: 0.3626, train acc: 0.8910, validation acc: 0.5220\n",
      "n_p:  0.508062512101\n",
      "Epoch: 11, train loss: 0.3347, train acc: 0.8988, validation acc: 0.5421\n",
      "n_p:  0.488393627875\n",
      "Epoch: 12, train loss: 0.3026, train acc: 0.9095, validation acc: 0.5308\n",
      "n_p:  0.470414339514\n",
      "Epoch: 13, train loss: 0.2765, train acc: 0.9137, validation acc: 0.5547\n",
      "n_p:  0.453907232308\n",
      "Epoch: 14, train loss: 0.2537, train acc: 0.9233, validation acc: 0.5447\n",
      "n_p:  0.438691337651\n",
      "Epoch: 15, train loss: 0.2297, train acc: 0.9301, validation acc: 0.5384\n",
      "n_p:  0.424614725068\n",
      "Epoch: 16, train loss: 0.2388, train acc: 0.9297, validation acc: 0.5321\n",
      "n_p:  0.411548842232\n",
      "Epoch: 17, train loss: 0.2281, train acc: 0.9269, validation acc: 0.5472\n",
      "n_p:  0.399384137858\n",
      "Epoch: 18, train loss: 0.1832, train acc: 0.9443, validation acc: 0.5497\n",
      "n_p:  0.388026639063\n",
      "Epoch: 19, train loss: 0.1946, train acc: 0.9404, validation acc: 0.5585\n",
      "n_p:  0.37739524779\n",
      "Epoch: 20, train loss: 0.2006, train acc: 0.9407, validation acc: 0.5509\n",
      "n_p:  0.367419585202\n",
      "Epoch: 21, train loss: 0.1701, train acc: 0.9485, validation acc: 0.5459\n",
      "n_p:  0.358038258096\n",
      "Epoch: 22, train loss: 0.1757, train acc: 0.9432, validation acc: 0.5409\n",
      "n_p:  0.349197453543\n",
      "Epoch: 23, train loss: 0.1699, train acc: 0.9475, validation acc: 0.5296\n",
      "n_p:  0.340849791129\n",
      "Epoch: 24, train loss: 0.1421, train acc: 0.9610, validation acc: 0.5308\n",
      "n_p:  0.33295337907\n",
      "Epoch: 25, train loss: 0.1404, train acc: 0.9585, validation acc: 0.5610\n",
      "n_p:  0.325471032966\n",
      "Epoch: 26, train loss: 0.1509, train acc: 0.9546, validation acc: 0.5296\n",
      "n_p:  0.318369625258\n",
      "Epoch: 27, train loss: 0.1246, train acc: 0.9624, validation acc: 0.5497\n",
      "n_p:  0.311619540435\n",
      "Epoch: 28, train loss: 0.1392, train acc: 0.9574, validation acc: 0.5447\n",
      "n_p:  0.305194216374\n",
      "Epoch: 29, train loss: 0.1382, train acc: 0.9531, validation acc: 0.5673\n",
      "n_p:  0.299069756244\n",
      "Epoch: 30, train loss: 0.1093, train acc: 0.9695, validation acc: 0.5434\n",
      "n_p:  0.293224598578\n",
      "Epoch: 31, train loss: 0.1286, train acc: 0.9574, validation acc: 0.5459\n",
      "n_p:  0.287639235518\n",
      "Epoch: 32, train loss: 0.1147, train acc: 0.9659, validation acc: 0.5623\n",
      "n_p:  0.282295971197\n",
      "Epoch: 33, train loss: 0.1211, train acc: 0.9649, validation acc: 0.5472\n",
      "n_p:  0.277178713699\n",
      "Epoch: 34, train loss: 0.1187, train acc: 0.9663, validation acc: 0.5346\n",
      "n_p:  0.272272795256\n",
      "Epoch: 35, train loss: 0.1172, train acc: 0.9627, validation acc: 0.5484\n",
      "n_p:  0.267564816275\n",
      "Epoch: 36, train loss: 0.0972, train acc: 0.9716, validation acc: 0.5396\n",
      "n_p:  0.263042509582\n",
      "Epoch: 37, train loss: 0.1133, train acc: 0.9613, validation acc: 0.5535\n",
      "n_p:  0.258694621872\n",
      "Epoch: 38, train loss: 0.0952, train acc: 0.9730, validation acc: 0.5484\n",
      "n_p:  0.254510809851\n",
      "Epoch: 39, train loss: 0.0830, train acc: 0.9762, validation acc: 0.5497\n",
      "n_p:  0.250481548996\n",
      "Epoch: 40, train loss: 0.1005, train acc: 0.9727, validation acc: 0.5836\n",
      "n_p:  0.24659805315\n",
      "Epoch: 41, train loss: 0.0881, train acc: 0.9727, validation acc: 0.5660\n",
      "n_p:  0.242852203489\n",
      "Epoch: 42, train loss: 0.0981, train acc: 0.9705, validation acc: 0.5535\n",
      "n_p:  0.239236485591\n",
      "Epoch: 43, train loss: 0.0979, train acc: 0.9723, validation acc: 0.5585\n",
      "n_p:  0.235743933552\n",
      "Epoch: 44, train loss: 0.0872, train acc: 0.9730, validation acc: 0.5597\n",
      "n_p:  0.232368080243\n",
      "Epoch: 45, train loss: 0.0928, train acc: 0.9691, validation acc: 0.5698\n",
      "n_p:  0.229102912911\n",
      "Epoch: 46, train loss: 0.0907, train acc: 0.9691, validation acc: 0.5648\n",
      "n_p:  0.225942833495\n",
      "Epoch: 47, train loss: 0.0939, train acc: 0.9709, validation acc: 0.5673\n",
      "n_p:  0.222882623044\n",
      "Epoch: 48, train loss: 0.0939, train acc: 0.9698, validation acc: 0.5497\n",
      "n_p:  0.219917409779\n",
      "Epoch: 49, train loss: 0.0873, train acc: 0.9734, validation acc: 0.5899\n",
      "n_p:  0.217042640348\n",
      "Epoch: 50, train loss: 0.0711, train acc: 0.9798, validation acc: 0.5686\n",
      "n_p:  0.214254053912\n",
      "Epoch: 51, train loss: 0.0766, train acc: 0.9776, validation acc: 0.5723\n",
      "n_p:  0.211547658749\n",
      "Epoch: 52, train loss: 0.0764, train acc: 0.9783, validation acc: 0.5597\n",
      "n_p:  0.208919711073\n",
      "Epoch: 53, train loss: 0.0681, train acc: 0.9791, validation acc: 0.5572\n",
      "n_p:  0.206366695852\n",
      "Epoch: 54, train loss: 0.0787, train acc: 0.9734, validation acc: 0.5434\n",
      "n_p:  0.203885309382\n",
      "Epoch: 55, train loss: 0.0655, train acc: 0.9801, validation acc: 0.5358\n",
      "n_p:  0.20147244345\n",
      "Epoch: 56, train loss: 0.0852, train acc: 0.9748, validation acc: 0.5711\n",
      "n_p:  0.199125170911\n",
      "Epoch: 57, train loss: 0.0768, train acc: 0.9759, validation acc: 0.5472\n",
      "n_p:  0.196840732524\n",
      "Epoch: 58, train loss: 0.0743, train acc: 0.9812, validation acc: 0.5585\n",
      "n_p:  0.194616524945\n",
      "Epoch: 59, train loss: 0.0636, train acc: 0.9762, validation acc: 0.5786\n",
      "n_p:  0.19245008973\n",
      "Epoch: 60, train loss: 0.0748, train acc: 0.9787, validation acc: 0.5774\n",
      "n_p:  0.190339103271\n",
      "Epoch: 61, train loss: 0.0612, train acc: 0.9801, validation acc: 0.5258\n",
      "n_p:  0.188281367563\n",
      "Epoch: 62, train loss: 0.0583, train acc: 0.9851, validation acc: 0.5660\n",
      "n_p:  0.186274801726\n",
      "Epoch: 63, train loss: 0.0560, train acc: 0.9812, validation acc: 0.5560\n",
      "n_p:  0.184317434211\n",
      "Epoch: 64, train loss: 0.0636, train acc: 0.9819, validation acc: 0.5509\n",
      "n_p:  0.182407395622\n",
      "Epoch: 65, train loss: 0.0893, train acc: 0.9723, validation acc: 0.5673\n",
      "n_p:  0.180542912107\n",
      "Epoch: 66, train loss: 0.0663, train acc: 0.9844, validation acc: 0.5597\n",
      "n_p:  0.178722299253\n",
      "Epoch: 67, train loss: 0.0725, train acc: 0.9787, validation acc: 0.5635\n",
      "n_p:  0.176943956448\n",
      "Epoch: 68, train loss: 0.0637, train acc: 0.9815, validation acc: 0.5597\n",
      "n_p:  0.175206361673\n",
      "Epoch: 69, train loss: 0.0626, train acc: 0.9798, validation acc: 0.5572\n",
      "n_p:  0.173508066677\n",
      "Epoch: 70, train loss: 0.0646, train acc: 0.9812, validation acc: 0.5748\n",
      "n_p:  0.1718476925\n",
      "Epoch: 71, train loss: 0.0828, train acc: 0.9780, validation acc: 0.5585\n",
      "n_p:  0.170223925335\n",
      "Epoch: 72, train loss: 0.0620, train acc: 0.9798, validation acc: 0.5358\n",
      "n_p:  0.16863551267\n",
      "Epoch: 73, train loss: 0.0526, train acc: 0.9826, validation acc: 0.5623\n",
      "n_p:  0.167081259717\n",
      "Epoch: 74, train loss: 0.0622, train acc: 0.9766, validation acc: 0.5660\n",
      "n_p:  0.165560026076\n",
      "Epoch: 75, train loss: 0.0535, train acc: 0.9858, validation acc: 0.5572\n"
     ]
    }
   ],
   "source": [
    "p = np.linspace(float(1./opt['p_lr_decay']),1,opt['p_lr_decay'])\n",
    "\n",
    "for epoch in range(opt['epochs']):\n",
    "    srcData = iter(src_dataloader)\n",
    "    totalCorrects = 0.\n",
    "    totalClsLoss = 0.\n",
    "#     experiment.log_current_epoch(epoch)\n",
    "    \n",
    "    n_p = opt['n0'] / pow((1. + opt['alpha'] * p[epoch]), (opt['beta']))\n",
    "    print(\"n_p: \", n_p)\n",
    "    for param_group in optimizer_2.param_groups:\n",
    "        param_group['lr'] = opt['lr'] * param_group['lr_mul'] * n_p\n",
    "        \n",
    "    for srcimgs, srclbls in srcData:\n",
    "        srcimgs = srcimgs.cuda() if opt['use_gpu'] else srcimgs\n",
    "        srclbls = srclbls.cuda() if opt['use_gpu'] else srclbls\n",
    "        srcimgs, srclbls = Variable(srcimgs), Variable(srclbls)\n",
    "        \n",
    "        feat_ = net(srcimgs)\n",
    "        logits = net2(feat_)\n",
    "        \n",
    "        clsloss = criterion(logits, srclbls)\n",
    "        totalClsLoss += clsloss.data[0] * opt['batchSize']\n",
    "        \n",
    "        _, preds = torch.max(softmax(logits).data, 1)\n",
    "        totalCorrects += torch.eq(preds, srclbls.data).float().sum()\n",
    "               \n",
    "        optimizer_2.zero_grad()\n",
    "        clsloss.backward()\n",
    "        optimizer_2.step()\n",
    "        \n",
    "        if lr_sch: lr_sch.step()\n",
    "        \n",
    "    srcAcc = totalCorrects / opt['srcDataLen']\n",
    "    srcLoss = totalClsLoss / opt['srcDataLen']\n",
    "    valAcc = get_validation_acc()\n",
    "#     experiment.log_metric(\"src_clsLoss\", srcLoss, step=epoch)\n",
    "#     experiment.log_metric(\"src_clsAcc\", srcAcc, step=epoch)\n",
    "#     experiment.log_metric('val_accuracy', valAcc, step=epoch)\n",
    "#     experiment.log_epoch_end(epoch)\n",
    "    print(\"Epoch: {}, train loss: {:.4f}, train acc: {:.4f}, validation acc: {:.4f}\".\n",
    "          format(epoch+1, srcLoss, srcAcc, valAcc))\n",
    "    srcClsLoss_plt.append(srcLoss), srcAcc_plt.append(srcAcc), valAcc_plt.append(valAcc)"
   ]
  },
  {
   "cell_type": "markdown",
   "metadata": {
    "ExecuteTime": {
     "end_time": "2018-04-17T18:02:39.884622Z",
     "start_time": "2018-04-17T18:02:37.300506Z"
    }
   },
   "source": [
    "```\n",
    "valAcc, y_preds, y_true = get_validation_acc(cm=True)\n",
    "\n",
    "y_preds = [d for sublist in y_preds for d in sublist]\n",
    "y_true = [d for sublist in y_true for d in sublist]\n",
    "\n",
    "cm = confusion_matrix(y_true, y_preds)\n",
    "\n",
    "np.set_printoptions(precision=2)\n",
    "plt.figure(figsize=(20,20))\n",
    "utils.plot_confusion_matrix(cm, classes=src_dataset.classes, normalize=False)\n",
    "plt.savefig('cm.png')\n",
    "plt.close()\n",
    "```"
   ]
  },
  {
   "cell_type": "code",
   "execution_count": 70,
   "metadata": {
    "ExecuteTime": {
     "end_time": "2018-04-17T17:58:39.505171Z",
     "start_time": "2018-04-17T17:58:39.253467Z"
    },
    "collapsed": true
   },
   "outputs": [],
   "source": [
    "plt.figure(figsize=(20,10))\n",
    "plt.title('Src and Tar accuracy')\n",
    "# plt.ylim([0,1])\n",
    "plt.plot(srcAcc_plt, label='srcAcc')\n",
    "plt.plot(valAcc_plt, label='tarAcc')\n",
    "plt.legend(loc=(0.80,0.10), scatterpoints=1)\n",
    "plt.savefig('acc1.png')\n",
    "plt.close()"
   ]
  },
  {
   "cell_type": "code",
   "execution_count": 85,
   "metadata": {
    "ExecuteTime": {
     "end_time": "2018-04-18T02:37:26.566123Z",
     "start_time": "2018-04-18T02:37:26.451555Z"
    },
    "collapsed": true
   },
   "outputs": [],
   "source": [
    "with open('report.html', 'w+') as file:\n",
    "    file.write(\n",
    "        '''<!DOCTYPE html>\n",
    "        <html>\n",
    "        <style>\n",
    "        img {\n",
    "            float: right;\n",
    "        }\n",
    "        </style>\n",
    "        <body>\n",
    "        <h4>HyperParams</h4>\n",
    "        <table><img src=\"./acc1.png\" alt=\"Accuracy plots\" style=\"margin-left:15px;\">\n",
    "        <tr>\n",
    "            <th>Param</th><th>Value</th>\n",
    "        </tr>'''\n",
    "    )\n",
    "    for k,v in opt.items():\n",
    "        file.write('<tr><td>%s </td><td> %s</td></tr>' % (k,v))\n",
    "    file.write('</table>\\n')\n",
    "    file.write('<h4>Classifier Network</h4>')\n",
    "    file.write(str(net2)+'\\n')\n",
    "    file.write('<h4>Base Network - Alexnet</h4>')\n",
    "    file.write(str(net)+'\\n')\n",
    "    file.write('<h4>Layers frozen</h4>\\n')\n",
    "    for n,param in net.named_parameters():\n",
    "        file.write('<span style=\"font-weight:bold\">%s</span> %s\\n' % (n, param.requires_grad))\n",
    "    file.write('</body></html>')"
   ]
  },
  {
   "cell_type": "code",
   "execution_count": 82,
   "metadata": {
    "ExecuteTime": {
     "end_time": "2018-04-18T02:28:57.290859Z",
     "start_time": "2018-04-18T02:28:57.184071Z"
    }
   },
   "outputs": [],
   "source": [
    "with open('experiment.log', 'w+') as file:\n",
    "    file.write('Experiment log\\nEpoch\\tClsLoss\\tSrcAcc\\tTarAcc\\n')\n",
    "    epoch = 1.\n",
    "    for l,s,t in zip(srcClsLoss_plt, srcAcc_plt, valAcc_plt):\n",
    "        file.write(\"Epoch:{}\\t{:.4f}\\t{:.4f}\\t{:.4f}\\n\".format(epoch,l,s,t))\n",
    "        epoch = epoch + 1."
   ]
  }
 ],
 "metadata": {
  "kernelspec": {
   "display_name": "Python 3",
   "language": "python",
   "name": "python3"
  },
  "language_info": {
   "codemirror_mode": {
    "name": "ipython",
    "version": 3
   },
   "file_extension": ".py",
   "mimetype": "text/x-python",
   "name": "python",
   "nbconvert_exporter": "python",
   "pygments_lexer": "ipython3",
   "version": "3.6.2"
  }
 },
 "nbformat": 4,
 "nbformat_minor": 2
}
