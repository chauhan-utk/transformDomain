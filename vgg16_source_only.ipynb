{
 "cells": [
  {
   "cell_type": "code",
   "execution_count": 23,
   "metadata": {
    "ExecuteTime": {
     "end_time": "2018-04-18T13:13:19.270574Z",
     "start_time": "2018-04-18T13:13:19.235621Z"
    },
    "collapsed": true
   },
   "outputs": [],
   "source": [
    "%matplotlib inline\n",
    "from config import domainData\n",
    "from config import num_classes as NUM_CLASSES\n",
    "import torch\n",
    "import torch.nn as nn\n",
    "import torch.nn.init as init\n",
    "import torch.optim as optim\n",
    "import torch.nn.functional as F\n",
    "from torch.autograd import Variable\n",
    "import torchvision.models as models\n",
    "import torchvision\n",
    "import utils\n",
    "from torchvision import datasets, transforms\n",
    "import numpy as np\n",
    "import itertools\n",
    "import matplotlib.pyplot as plt\n",
    "from sklearn.metrics import confusion_matrix\n",
    "from alexnet import alexnet"
   ]
  },
  {
   "cell_type": "code",
   "execution_count": 24,
   "metadata": {
    "ExecuteTime": {
     "end_time": "2018-04-18T13:13:41.109045Z",
     "start_time": "2018-04-18T13:13:19.273357Z"
    }
   },
   "outputs": [
    {
     "name": "stdout",
     "output_type": "stream",
     "text": [
      "VGG(\n",
      "  (features): Sequential(\n",
      "    (0): Conv2d(3, 64, kernel_size=(3, 3), stride=(1, 1), padding=(1, 1))\n",
      "    (1): ReLU(inplace)\n",
      "    (2): Conv2d(64, 64, kernel_size=(3, 3), stride=(1, 1), padding=(1, 1))\n",
      "    (3): ReLU(inplace)\n",
      "    (4): MaxPool2d(kernel_size=(2, 2), stride=(2, 2), dilation=(1, 1), ceil_mode=False)\n",
      "    (5): Conv2d(64, 128, kernel_size=(3, 3), stride=(1, 1), padding=(1, 1))\n",
      "    (6): ReLU(inplace)\n",
      "    (7): Conv2d(128, 128, kernel_size=(3, 3), stride=(1, 1), padding=(1, 1))\n",
      "    (8): ReLU(inplace)\n",
      "    (9): MaxPool2d(kernel_size=(2, 2), stride=(2, 2), dilation=(1, 1), ceil_mode=False)\n",
      "    (10): Conv2d(128, 256, kernel_size=(3, 3), stride=(1, 1), padding=(1, 1))\n",
      "    (11): ReLU(inplace)\n",
      "    (12): Conv2d(256, 256, kernel_size=(3, 3), stride=(1, 1), padding=(1, 1))\n",
      "    (13): ReLU(inplace)\n",
      "    (14): Conv2d(256, 256, kernel_size=(3, 3), stride=(1, 1), padding=(1, 1))\n",
      "    (15): ReLU(inplace)\n",
      "    (16): MaxPool2d(kernel_size=(2, 2), stride=(2, 2), dilation=(1, 1), ceil_mode=False)\n",
      "    (17): Conv2d(256, 512, kernel_size=(3, 3), stride=(1, 1), padding=(1, 1))\n",
      "    (18): ReLU(inplace)\n",
      "    (19): Conv2d(512, 512, kernel_size=(3, 3), stride=(1, 1), padding=(1, 1))\n",
      "    (20): ReLU(inplace)\n",
      "    (21): Conv2d(512, 512, kernel_size=(3, 3), stride=(1, 1), padding=(1, 1))\n",
      "    (22): ReLU(inplace)\n",
      "    (23): MaxPool2d(kernel_size=(2, 2), stride=(2, 2), dilation=(1, 1), ceil_mode=False)\n",
      "    (24): Conv2d(512, 512, kernel_size=(3, 3), stride=(1, 1), padding=(1, 1))\n",
      "    (25): ReLU(inplace)\n",
      "    (26): Conv2d(512, 512, kernel_size=(3, 3), stride=(1, 1), padding=(1, 1))\n",
      "    (27): ReLU(inplace)\n",
      "    (28): Conv2d(512, 512, kernel_size=(3, 3), stride=(1, 1), padding=(1, 1))\n",
      "    (29): ReLU(inplace)\n",
      "    (30): MaxPool2d(kernel_size=(2, 2), stride=(2, 2), dilation=(1, 1), ceil_mode=False)\n",
      "  )\n",
      "  (classifier): Sequential(\n",
      "    (0): Linear(in_features=25088, out_features=4096, bias=True)\n",
      "    (1): ReLU(inplace)\n",
      "    (2): Dropout(p=0.5)\n",
      "    (3): Linear(in_features=4096, out_features=4096, bias=True)\n",
      "    (4): ReLU(inplace)\n",
      "    (5): Dropout(p=0.5)\n",
      "    (6): Linear(in_features=4096, out_features=1000, bias=True)\n",
      "  )\n",
      ")\n"
     ]
    }
   ],
   "source": [
    "net = models.vgg16(pretrained=True)\n",
    "print(net)"
   ]
  },
  {
   "cell_type": "code",
   "execution_count": 25,
   "metadata": {
    "ExecuteTime": {
     "end_time": "2018-04-18T13:13:41.117978Z",
     "start_time": "2018-04-18T13:13:41.113354Z"
    },
    "collapsed": true
   },
   "outputs": [],
   "source": [
    "net.classifier = nn.Sequential(*list(net.classifier.children())[:-1])\n",
    "# print(net)"
   ]
  },
  {
   "cell_type": "code",
   "execution_count": 26,
   "metadata": {
    "ExecuteTime": {
     "end_time": "2018-04-18T13:13:41.291257Z",
     "start_time": "2018-04-18T13:13:41.120892Z"
    },
    "collapsed": true
   },
   "outputs": [],
   "source": [
    "src = domainData['amazon']\n",
    "tar = domainData['webcam']"
   ]
  },
  {
   "cell_type": "code",
   "execution_count": 27,
   "metadata": {
    "ExecuteTime": {
     "end_time": "2018-04-18T13:13:41.501441Z",
     "start_time": "2018-04-18T13:13:41.293763Z"
    },
    "code_folding": [
     7
    ],
    "collapsed": true
   },
   "outputs": [],
   "source": [
    "src_transforms = transforms.Compose([\n",
    "    transforms.Resize(256),\n",
    "#     transforms.CenterCrop(224),\n",
    "#     transforms.RandomVerticalFlip(),\n",
    "    transforms.RandomResizedCrop(224, scale=(0.50,1.0), ratio=(1.,1.)),\n",
    "    transforms.RandomHorizontalFlip(),\n",
    "    transforms.ToTensor(),\n",
    "    transforms.Normalize(mean=[0.485, 0.456, 0.406],\n",
    "                         std=[0.229, 0.224, 0.225])    \n",
    "])\n",
    "tar_transforms = transforms.Compose([\n",
    "    transforms.Resize(256),\n",
    "    transforms.CenterCrop(224),\n",
    "#     transforms.RandomResizedCrop(224, scale=(0.25,1.0)),\n",
    "    transforms.ToTensor(),\n",
    "    transforms.Normalize(mean=[0.485, 0.456, 0.406],\n",
    "                         std=[0.229, 0.224, 0.225]) \n",
    "])"
   ]
  },
  {
   "cell_type": "code",
   "execution_count": 28,
   "metadata": {
    "ExecuteTime": {
     "end_time": "2018-04-18T13:13:41.711621Z",
     "start_time": "2018-04-18T13:13:41.504384Z"
    },
    "collapsed": true
   },
   "outputs": [],
   "source": [
    "src_dataset = datasets.ImageFolder(src, transform=src_transforms)\n",
    "tar_dataset = datasets.ImageFolder(tar, transform=tar_transforms)\n",
    "srcSampler = torch.utils.data.sampler.RandomSampler(src_dataset)\n",
    "tarSampler = torch.utils.data.sampler.RandomSampler(tar_dataset)\n",
    "srcDataLen = len(src_dataset)\n",
    "tarDataLen = len(tar_dataset)\n",
    "use_gpu = True and torch.cuda.is_available()\n",
    "gpu = 2"
   ]
  },
  {
   "cell_type": "code",
   "execution_count": 29,
   "metadata": {
    "ExecuteTime": {
     "end_time": "2018-04-18T13:13:41.804144Z",
     "start_time": "2018-04-18T13:13:41.713855Z"
    },
    "collapsed": true
   },
   "outputs": [],
   "source": [
    "opt = {\n",
    "    'src': 'Amazon',\n",
    "    'tar': 'Webcam',\n",
    "    'manual_seed':1,\n",
    "    'batchSize':32,\n",
    "    'use_gpu': use_gpu,\n",
    "    'num_classes': 31,\n",
    "    'epochs': 75,\n",
    "    'momentum': 0.9,\n",
    "    'lr': 2e-4,\n",
    "    'lr_sch': 0,\n",
    "    'lr_sch_gamma': 0.1,\n",
    "    'p_lr_decay': 75,\n",
    "    'n0': 1.,\n",
    "    'alpha': 10,\n",
    "    'beta': 0.75,\n",
    "    'betas': (0.5,0.99),\n",
    "    'net_wtDcy': 0.001,\n",
    "    'btl_wtDcy': 0.001,\n",
    "    'srcDataLen': srcDataLen,\n",
    "    'tarDataLen': tarDataLen\n",
    "}"
   ]
  },
  {
   "cell_type": "code",
   "execution_count": 30,
   "metadata": {
    "ExecuteTime": {
     "end_time": "2018-04-18T13:13:41.961078Z",
     "start_time": "2018-04-18T13:13:41.807512Z"
    },
    "collapsed": true
   },
   "outputs": [],
   "source": [
    "torch.manual_seed(opt['manual_seed'])\n",
    "if opt['use_gpu']: torch.cuda.manual_seed(opt['manual_seed'])"
   ]
  },
  {
   "cell_type": "code",
   "execution_count": 31,
   "metadata": {
    "ExecuteTime": {
     "end_time": "2018-04-18T13:13:42.191647Z",
     "start_time": "2018-04-18T13:13:41.963470Z"
    }
   },
   "outputs": [
    {
     "name": "stdout",
     "output_type": "stream",
     "text": [
      "use_gpu:  True\n"
     ]
    }
   ],
   "source": [
    "print(\"use_gpu: \", opt['use_gpu'])"
   ]
  },
  {
   "cell_type": "code",
   "execution_count": 32,
   "metadata": {
    "ExecuteTime": {
     "end_time": "2018-04-18T13:13:42.358736Z",
     "start_time": "2018-04-18T13:13:42.194532Z"
    },
    "collapsed": true
   },
   "outputs": [],
   "source": [
    "src_dataloader = torch.utils.data.DataLoader(src_dataset, batch_size=opt['batchSize'], \n",
    "                                             shuffle=(srcSampler is None), sampler=srcSampler,\n",
    "                                            num_workers=2, pin_memory=False, drop_last=False)\n",
    "tar_dataloader = torch.utils.data.DataLoader(tar_dataset, batch_size=opt['batchSize'],\n",
    "                                            shuffle=(tarSampler is None), sampler=tarSampler,\n",
    "                                            num_workers=2, pin_memory=False, drop_last=False)"
   ]
  },
  {
   "cell_type": "code",
   "execution_count": 33,
   "metadata": {
    "ExecuteTime": {
     "end_time": "2018-04-18T13:13:42.508585Z",
     "start_time": "2018-04-18T13:13:42.361274Z"
    },
    "collapsed": true
   },
   "outputs": [],
   "source": [
    "def init_weights(m):\n",
    "#     print(m)\n",
    "    if isinstance(m, nn.Linear):\n",
    "        init.xavier_normal(m.weight)\n",
    "        init.constant(m.bias, 0.1)"
   ]
  },
  {
   "cell_type": "code",
   "execution_count": 34,
   "metadata": {
    "ExecuteTime": {
     "end_time": "2018-04-18T13:13:42.679259Z",
     "start_time": "2018-04-18T13:13:42.510999Z"
    },
    "collapsed": true
   },
   "outputs": [],
   "source": [
    "class Model(nn.Module):\n",
    "    def __init__(self):\n",
    "        super(Model, self).__init__()\n",
    "        self.classifier = nn.Sequential(nn.Linear(4096,256),\n",
    "                                       nn.ReLU(inplace=True), nn.Linear(256, opt['num_classes']))\n",
    "        self.classifier.apply(init_weights)\n",
    "    \n",
    "    def forward(self, x):\n",
    "        x = self.classifier(x)\n",
    "        return x"
   ]
  },
  {
   "cell_type": "code",
   "execution_count": 35,
   "metadata": {
    "ExecuteTime": {
     "end_time": "2018-04-18T13:13:42.964918Z",
     "start_time": "2018-04-18T13:13:42.684526Z"
    },
    "collapsed": true
   },
   "outputs": [],
   "source": [
    "net2 = Model()"
   ]
  },
  {
   "cell_type": "code",
   "execution_count": 36,
   "metadata": {
    "ExecuteTime": {
     "end_time": "2018-04-18T13:13:43.607700Z",
     "start_time": "2018-04-18T13:13:42.970461Z"
    },
    "collapsed": true
   },
   "outputs": [],
   "source": [
    "if opt['use_gpu']:\n",
    "    net = net.cuda(gpu)\n",
    "    net2 = net2.cuda(gpu)\n",
    "    torch.backends.cudnn.enabled=True\n",
    "    torch.backends.cudnn.benchmark=True"
   ]
  },
  {
   "cell_type": "markdown",
   "metadata": {},
   "source": [
    "To computer norm of various parameters\n",
    "\n",
    "```python\n",
    "for name, param in net2.named_parameters():\n",
    "    nrm = torch.norm(param, 2)\n",
    "    zero = param.eq(0.).float().sum()\n",
    "    nele = torch.numel(param)\n",
    "    print(name, nrm.data[0], nele, zero.data[0])\n",
    "```"
   ]
  },
  {
   "cell_type": "code",
   "execution_count": 37,
   "metadata": {
    "ExecuteTime": {
     "end_time": "2018-04-18T13:13:43.613856Z",
     "start_time": "2018-04-18T13:13:43.610152Z"
    },
    "collapsed": true
   },
   "outputs": [],
   "source": [
    "criterion = nn.CrossEntropyLoss()\n",
    "softmax = nn.Softmax(dim=1)"
   ]
  },
  {
   "cell_type": "code",
   "execution_count": 38,
   "metadata": {
    "ExecuteTime": {
     "end_time": "2018-04-18T13:13:43.826552Z",
     "start_time": "2018-04-18T13:13:43.616274Z"
    },
    "collapsed": true
   },
   "outputs": [],
   "source": [
    "netfeatwt, netfeatbias = list(), list()\n",
    "for name, param in net.features.named_parameters():\n",
    "    if name in ['19.weight', '21.weight', '24.weight', '26.weight', '28.weight']: netfeatwt.append(param)\n",
    "    elif name in ['19.bias', '21.bias', '24.bias', '26.bias', '28.bias']: netfeatbias.append(param)\n",
    "    else: param.requires_grad=False"
   ]
  },
  {
   "cell_type": "code",
   "execution_count": 39,
   "metadata": {
    "ExecuteTime": {
     "end_time": "2018-04-18T13:13:43.996922Z",
     "start_time": "2018-04-18T13:13:43.830436Z"
    }
   },
   "outputs": [
    {
     "name": "stdout",
     "output_type": "stream",
     "text": [
      "features.0.weight False\n",
      "features.0.bias False\n",
      "features.2.weight False\n",
      "features.2.bias False\n",
      "features.5.weight False\n",
      "features.5.bias False\n",
      "features.7.weight False\n",
      "features.7.bias False\n",
      "features.10.weight False\n",
      "features.10.bias False\n",
      "features.12.weight False\n",
      "features.12.bias False\n",
      "features.14.weight False\n",
      "features.14.bias False\n",
      "features.17.weight False\n",
      "features.17.bias False\n",
      "features.19.weight True\n",
      "features.19.bias True\n",
      "features.21.weight True\n",
      "features.21.bias True\n",
      "features.24.weight True\n",
      "features.24.bias True\n",
      "features.26.weight True\n",
      "features.26.bias True\n",
      "features.28.weight True\n",
      "features.28.bias True\n",
      "classifier.0.weight True\n",
      "classifier.0.bias True\n",
      "classifier.3.weight True\n",
      "classifier.3.bias True\n"
     ]
    }
   ],
   "source": [
    "for name, param in net.named_parameters():\n",
    "    print(name, param.requires_grad)"
   ]
  },
  {
   "cell_type": "code",
   "execution_count": 40,
   "metadata": {
    "ExecuteTime": {
     "end_time": "2018-04-18T13:13:44.145504Z",
     "start_time": "2018-04-18T13:13:43.999081Z"
    },
    "collapsed": true
   },
   "outputs": [],
   "source": [
    "for name, param in net.classifier.named_parameters():\n",
    "    if 'weight' in name: netfeatwt.append(param)\n",
    "    elif 'bias' in name: netfeatbias.append(param)"
   ]
  },
  {
   "cell_type": "code",
   "execution_count": 41,
   "metadata": {
    "ExecuteTime": {
     "end_time": "2018-04-18T13:13:44.354243Z",
     "start_time": "2018-04-18T13:13:44.147996Z"
    },
    "collapsed": true
   },
   "outputs": [],
   "source": [
    "net2_weight, net2_bias = list(), list()\n",
    "for name, param in net2.named_parameters():\n",
    "    if 'weight' in name: net2_weight.append(param)\n",
    "    elif 'bias' in name: net2_bias.append(param)"
   ]
  },
  {
   "cell_type": "code",
   "execution_count": 42,
   "metadata": {
    "ExecuteTime": {
     "end_time": "2018-04-18T13:13:44.512871Z",
     "start_time": "2018-04-18T13:13:44.357128Z"
    },
    "collapsed": true
   },
   "outputs": [],
   "source": [
    "sgd_params = [\n",
    "    {'params': netfeatwt, 'lr': opt['lr'], 'momentum': opt['momentum'], 'weight_decay': opt['net_wtDcy'], 'lr_mul': 1., 'name': 'netfeatwt'},\n",
    "    {'params': netfeatbias, 'lr': opt['lr'], 'momentum': opt['momentum'], 'weight_decay': 0*opt['net_wtDcy'], 'lr_mul': 2., 'name': 'netfeatbias'},\n",
    "    {'params': net2_weight, 'lr': opt['lr'], 'momentum': opt['momentum'], 'weight_decay': opt['btl_wtDcy'], 'lr_mul': 10., 'name': 'net2wt'},\n",
    "    {'params': net2_bias, 'lr': opt['lr'], 'momentum': opt['momentum'], 'weight_decay': 0*opt['btl_wtDcy'], 'lr_mul': 20., 'name': 'net2bias'}\n",
    "]\n",
    "\n",
    "# optimizer = optim.Adam(net2.parameters(), lr=opt['lr'], betas=opt['betas'], weight_decay=opt['weight_decay'])\n",
    "# optimizer = optim.Adam(sgd_params, betas=opt['betas'])\n",
    "\n",
    "optimizer_2 = optim.SGD(sgd_params)\n",
    "# optimizer_2 = optim.SGD(net2.parameters(), lr=opt['lr'], momentum=opt['momentum'], weight_decay=opt['btl_wtDcy'])\n",
    "\n",
    "lr_sch = None\n",
    "if opt['lr_sch']=='step': lr_sch = optim.lr_scheduler.StepLR(optimizer, 20, opt['lr_sch_gamma'])\n",
    "if opt['lr_sch']=='exponential': lr_sch = optim.lr_scheduler.ExponentialLR(optimizer_2, opt['lr_sch_gamma'])"
   ]
  },
  {
   "cell_type": "code",
   "execution_count": 43,
   "metadata": {
    "ExecuteTime": {
     "end_time": "2018-04-18T13:13:44.686576Z",
     "start_time": "2018-04-18T13:13:44.514753Z"
    },
    "collapsed": true
   },
   "outputs": [],
   "source": [
    "def get_validation_acc(cm=False):\n",
    "    tarData = iter(tar_dataloader)\n",
    "    totalCorrects = 0.\n",
    "    if cm: y_preds, y_true = list(), list()\n",
    "    for tarimgs, tarlbls in tarData:\n",
    "        tarimgs = tarimgs.cuda(gpu) if opt['use_gpu'] else tarimgs\n",
    "        tarlbls = tarlbls.cuda(gpu) if opt['use_gpu'] else tarlbls      \n",
    "        tarimgs = Variable(tarimgs, volatile=True)\n",
    "\n",
    "        feat_ = net(tarimgs)\n",
    "        logits = net2(feat_)\n",
    "\n",
    "        _, preds = torch.max(softmax(logits).data, 1)\n",
    "        totalCorrects += torch.eq(preds, tarlbls).float().sum()\n",
    "        if cm: y_preds.append(preds.cpu().numpy()), y_true.append(tarlbls.cpu().numpy())\n",
    "    valAcc = totalCorrects / opt['tarDataLen']\n",
    "    if cm: return valAcc, y_preds, y_true\n",
    "    return valAcc"
   ]
  },
  {
   "cell_type": "code",
   "execution_count": 44,
   "metadata": {
    "ExecuteTime": {
     "end_time": "2018-04-18T13:54:27.638583Z",
     "start_time": "2018-04-18T13:13:44.689169Z"
    }
   },
   "outputs": [
    {
     "name": "stdout",
     "output_type": "stream",
     "text": [
      "n_p:  0.910398960683\n",
      "Epoch: 1, train loss: 1.9675, train acc: 0.4949, validation acc: 0.6088\n",
      "n_p:  0.837535537332\n",
      "Epoch: 2, train loss: 0.8508, train acc: 0.7632, validation acc: 0.5836\n",
      "n_p:  0.776969504241\n",
      "Epoch: 3, train loss: 0.6784, train acc: 0.8126, validation acc: 0.6239\n",
      "n_p:  0.725725807496\n",
      "Epoch: 4, train loss: 0.6252, train acc: 0.8222, validation acc: 0.6566\n",
      "n_p:  0.68173161988\n",
      "Epoch: 5, train loss: 0.5589, train acc: 0.8403, validation acc: 0.6226\n",
      "n_p:  0.643495658493\n",
      "Epoch: 6, train loss: 0.4698, train acc: 0.8608, validation acc: 0.6126\n",
      "n_p:  0.609915886892\n",
      "Epoch: 7, train loss: 0.4286, train acc: 0.8644, validation acc: 0.6390\n",
      "n_p:  0.580159187126\n",
      "Epoch: 8, train loss: 0.3632, train acc: 0.8885, validation acc: 0.6465\n",
      "n_p:  0.55358331165\n",
      "Epoch: 9, train loss: 0.3243, train acc: 0.9045, validation acc: 0.6591\n",
      "n_p:  0.529684678724\n",
      "Epoch: 10, train loss: 0.2921, train acc: 0.9084, validation acc: 0.6491\n",
      "n_p:  0.508062512101\n",
      "Epoch: 11, train loss: 0.2771, train acc: 0.9123, validation acc: 0.6516\n",
      "n_p:  0.488393627875\n",
      "Epoch: 12, train loss: 0.2648, train acc: 0.9155, validation acc: 0.6629\n",
      "n_p:  0.470414339514\n",
      "Epoch: 13, train loss: 0.2276, train acc: 0.9219, validation acc: 0.6465\n",
      "n_p:  0.453907232308\n",
      "Epoch: 14, train loss: 0.2125, train acc: 0.9368, validation acc: 0.6566\n",
      "n_p:  0.438691337651\n",
      "Epoch: 15, train loss: 0.2264, train acc: 0.9276, validation acc: 0.6491\n",
      "n_p:  0.424614725068\n",
      "Epoch: 16, train loss: 0.2054, train acc: 0.9389, validation acc: 0.6579\n",
      "n_p:  0.411548842232\n",
      "Epoch: 17, train loss: 0.1774, train acc: 0.9414, validation acc: 0.6704\n",
      "n_p:  0.399384137858\n",
      "Epoch: 18, train loss: 0.1686, train acc: 0.9475, validation acc: 0.6566\n",
      "n_p:  0.388026639063\n",
      "Epoch: 19, train loss: 0.1660, train acc: 0.9496, validation acc: 0.6616\n",
      "n_p:  0.37739524779\n",
      "Epoch: 20, train loss: 0.1627, train acc: 0.9475, validation acc: 0.6742\n",
      "n_p:  0.367419585202\n",
      "Epoch: 21, train loss: 0.1560, train acc: 0.9514, validation acc: 0.6730\n",
      "n_p:  0.358038258096\n",
      "Epoch: 22, train loss: 0.1503, train acc: 0.9535, validation acc: 0.6579\n",
      "n_p:  0.349197453543\n",
      "Epoch: 23, train loss: 0.1306, train acc: 0.9567, validation acc: 0.6616\n",
      "n_p:  0.340849791129\n",
      "Epoch: 24, train loss: 0.1376, train acc: 0.9553, validation acc: 0.6755\n",
      "n_p:  0.33295337907\n",
      "Epoch: 25, train loss: 0.1250, train acc: 0.9624, validation acc: 0.6629\n",
      "n_p:  0.325471032966\n",
      "Epoch: 26, train loss: 0.1128, train acc: 0.9638, validation acc: 0.6654\n",
      "n_p:  0.318369625258\n",
      "Epoch: 27, train loss: 0.1049, train acc: 0.9666, validation acc: 0.6704\n",
      "n_p:  0.311619540435\n",
      "Epoch: 28, train loss: 0.1102, train acc: 0.9624, validation acc: 0.6629\n",
      "n_p:  0.305194216374\n",
      "Epoch: 29, train loss: 0.1091, train acc: 0.9645, validation acc: 0.6465\n",
      "n_p:  0.299069756244\n",
      "Epoch: 30, train loss: 0.1139, train acc: 0.9599, validation acc: 0.6553\n",
      "n_p:  0.293224598578\n",
      "Epoch: 31, train loss: 0.0950, train acc: 0.9681, validation acc: 0.6453\n",
      "n_p:  0.287639235518\n",
      "Epoch: 32, train loss: 0.1047, train acc: 0.9645, validation acc: 0.6478\n",
      "n_p:  0.282295971197\n",
      "Epoch: 33, train loss: 0.1095, train acc: 0.9677, validation acc: 0.6855\n",
      "n_p:  0.277178713699\n",
      "Epoch: 34, train loss: 0.1213, train acc: 0.9620, validation acc: 0.6654\n",
      "n_p:  0.272272795256\n",
      "Epoch: 35, train loss: 0.0914, train acc: 0.9755, validation acc: 0.6528\n",
      "n_p:  0.267564816275\n",
      "Epoch: 36, train loss: 0.0850, train acc: 0.9709, validation acc: 0.6692\n",
      "n_p:  0.263042509582\n",
      "Epoch: 37, train loss: 0.0898, train acc: 0.9652, validation acc: 0.6616\n",
      "n_p:  0.258694621872\n",
      "Epoch: 38, train loss: 0.2106, train acc: 0.9727, validation acc: 0.6667\n",
      "n_p:  0.254510809851\n",
      "Epoch: 39, train loss: 0.1765, train acc: 0.9581, validation acc: 0.6440\n",
      "n_p:  0.250481548996\n",
      "Epoch: 40, train loss: 0.0759, train acc: 0.9783, validation acc: 0.6528\n",
      "n_p:  0.24659805315\n",
      "Epoch: 41, train loss: 0.0803, train acc: 0.9744, validation acc: 0.6264\n",
      "n_p:  0.242852203489\n",
      "Epoch: 42, train loss: 0.0792, train acc: 0.9773, validation acc: 0.6629\n",
      "n_p:  0.239236485591\n",
      "Epoch: 43, train loss: 0.0726, train acc: 0.9759, validation acc: 0.6654\n",
      "n_p:  0.235743933552\n",
      "Epoch: 44, train loss: 0.0710, train acc: 0.9769, validation acc: 0.6704\n",
      "n_p:  0.232368080243\n",
      "Epoch: 45, train loss: 0.0635, train acc: 0.9808, validation acc: 0.6528\n",
      "n_p:  0.229102912911\n",
      "Epoch: 46, train loss: 0.0720, train acc: 0.9805, validation acc: 0.6730\n",
      "n_p:  0.225942833495\n",
      "Epoch: 47, train loss: 0.0628, train acc: 0.9819, validation acc: 0.6579\n",
      "n_p:  0.222882623044\n",
      "Epoch: 48, train loss: 0.0598, train acc: 0.9819, validation acc: 0.6553\n",
      "n_p:  0.219917409779\n",
      "Epoch: 49, train loss: 0.0610, train acc: 0.9794, validation acc: 0.6629\n",
      "n_p:  0.217042640348\n",
      "Epoch: 50, train loss: 0.0608, train acc: 0.9840, validation acc: 0.6415\n",
      "n_p:  0.214254053912\n",
      "Epoch: 51, train loss: 0.0623, train acc: 0.9801, validation acc: 0.6541\n",
      "n_p:  0.211547658749\n",
      "Epoch: 52, train loss: 0.0647, train acc: 0.9766, validation acc: 0.6604\n",
      "n_p:  0.208919711073\n",
      "Epoch: 53, train loss: 0.0651, train acc: 0.9812, validation acc: 0.6465\n",
      "n_p:  0.206366695852\n",
      "Epoch: 54, train loss: 0.0580, train acc: 0.9787, validation acc: 0.6667\n",
      "n_p:  0.203885309382\n",
      "Epoch: 55, train loss: 0.0594, train acc: 0.9812, validation acc: 0.6591\n",
      "n_p:  0.20147244345\n",
      "Epoch: 56, train loss: 0.0627, train acc: 0.9805, validation acc: 0.6667\n",
      "n_p:  0.199125170911\n",
      "Epoch: 57, train loss: 0.0657, train acc: 0.9762, validation acc: 0.6742\n",
      "n_p:  0.196840732524\n",
      "Epoch: 58, train loss: 0.0665, train acc: 0.9783, validation acc: 0.6742\n",
      "n_p:  0.194616524945\n",
      "Epoch: 59, train loss: 0.0564, train acc: 0.9815, validation acc: 0.6465\n",
      "n_p:  0.19245008973\n",
      "Epoch: 60, train loss: 0.0555, train acc: 0.9837, validation acc: 0.6566\n",
      "n_p:  0.190339103271\n",
      "Epoch: 61, train loss: 0.0576, train acc: 0.9812, validation acc: 0.6616\n",
      "n_p:  0.188281367563\n",
      "Epoch: 62, train loss: 0.0550, train acc: 0.9830, validation acc: 0.6528\n",
      "n_p:  0.186274801726\n",
      "Epoch: 63, train loss: 0.0559, train acc: 0.9826, validation acc: 0.6591\n",
      "n_p:  0.184317434211\n",
      "Epoch: 64, train loss: 0.0551, train acc: 0.9815, validation acc: 0.6604\n",
      "n_p:  0.182407395622\n",
      "Epoch: 65, train loss: 0.0441, train acc: 0.9865, validation acc: 0.6465\n",
      "n_p:  0.180542912107\n",
      "Epoch: 66, train loss: 0.0442, train acc: 0.9865, validation acc: 0.6818\n",
      "n_p:  0.178722299253\n",
      "Epoch: 67, train loss: 0.0520, train acc: 0.9819, validation acc: 0.6503\n",
      "n_p:  0.176943956448\n",
      "Epoch: 68, train loss: 0.0404, train acc: 0.9890, validation acc: 0.6780\n",
      "n_p:  0.175206361673\n",
      "Epoch: 69, train loss: 0.0463, train acc: 0.9851, validation acc: 0.6516\n",
      "n_p:  0.173508066677\n",
      "Epoch: 70, train loss: 0.0406, train acc: 0.9869, validation acc: 0.6440\n",
      "n_p:  0.1718476925\n",
      "Epoch: 71, train loss: 0.0424, train acc: 0.9883, validation acc: 0.6692\n",
      "n_p:  0.170223925335\n",
      "Epoch: 72, train loss: 0.0477, train acc: 0.9854, validation acc: 0.6616\n",
      "n_p:  0.16863551267\n",
      "Epoch: 73, train loss: 0.0493, train acc: 0.9862, validation acc: 0.6717\n",
      "n_p:  0.167081259717\n",
      "Epoch: 74, train loss: 0.0422, train acc: 0.9872, validation acc: 0.6679\n",
      "n_p:  0.165560026076\n",
      "Epoch: 75, train loss: 0.0433, train acc: 0.9865, validation acc: 0.6516\n"
     ]
    }
   ],
   "source": [
    "p = np.linspace(float(1./opt['p_lr_decay']),1,opt['p_lr_decay'])\n",
    "\n",
    "for epoch in range(opt['epochs']):\n",
    "    srcData = iter(src_dataloader)\n",
    "    totalCorrects = 0.\n",
    "    totalClsLoss = 0.\n",
    "#     experiment.log_current_epoch(epoch)\n",
    "    \n",
    "    n_p = opt['n0'] / pow((1. + opt['alpha'] * p[epoch]), (opt['beta']))\n",
    "    print(\"n_p: \", n_p)\n",
    "    for param_group in optimizer_2.param_groups:\n",
    "        param_group['lr'] = opt['lr'] * param_group['lr_mul'] * n_p\n",
    "        \n",
    "    for srcimgs, srclbls in srcData:\n",
    "        srcimgs = srcimgs.cuda(gpu) if opt['use_gpu'] else srcimgs\n",
    "        srclbls = srclbls.cuda(gpu) if opt['use_gpu'] else srclbls\n",
    "        srcimgs, srclbls = Variable(srcimgs), Variable(srclbls)\n",
    "        \n",
    "        feat_ = net(srcimgs)\n",
    "        logits = net2(feat_)\n",
    "        \n",
    "        clsloss = criterion(logits, srclbls)\n",
    "        totalClsLoss += clsloss.data[0] * opt['batchSize']\n",
    "        \n",
    "        _, preds = torch.max(softmax(logits).data, 1)\n",
    "        totalCorrects += torch.eq(preds, srclbls.data).float().sum()\n",
    "               \n",
    "        optimizer_2.zero_grad()\n",
    "        clsloss.backward()\n",
    "        optimizer_2.step()\n",
    "        \n",
    "        if lr_sch: lr_sch.step()\n",
    "        \n",
    "    srcAcc = totalCorrects / opt['srcDataLen']\n",
    "    srcLoss = totalClsLoss / opt['srcDataLen']\n",
    "    valAcc = get_validation_acc()\n",
    "#     experiment.log_metric(\"src_clsLoss\", srcLoss, step=epoch)\n",
    "#     experiment.log_metric(\"src_clsAcc\", srcAcc, step=epoch)\n",
    "#     experiment.log_metric('val_accuracy', valAcc, step=epoch)\n",
    "#     experiment.log_epoch_end(epoch)\n",
    "    print(\"Epoch: {}, train loss: {:.4f}, train acc: {:.4f}, validation acc: {:.4f}\".\n",
    "          format(epoch+1, srcLoss, srcAcc, valAcc))"
   ]
  },
  {
   "cell_type": "markdown",
   "metadata": {},
   "source": [
    "```\n",
    "valAcc, y_preds, y_true = get_validation_acc(cm=True)\n",
    "\n",
    "y_preds = [d for sublist in y_preds for d in sublist]\n",
    "y_true = [d for sublist in y_true for d in sublist]\n",
    "\n",
    "cm = confusion_matrix(y_true, y_preds)\n",
    "\n",
    "np.set_printoptions(precision=2)\n",
    "plt.figure(figsize=(20,20))\n",
    "utils.plot_confusion_matrix(cm, classes=src_dataset.classes, normalize=False)\n",
    "plt.show()\n",
    "```"
   ]
  }
 ],
 "metadata": {
  "kernelspec": {
   "display_name": "Python 3",
   "language": "python",
   "name": "python3"
  },
  "language_info": {
   "codemirror_mode": {
    "name": "ipython",
    "version": 3
   },
   "file_extension": ".py",
   "mimetype": "text/x-python",
   "name": "python",
   "nbconvert_exporter": "python",
   "pygments_lexer": "ipython3",
   "version": "3.6.2"
  }
 },
 "nbformat": 4,
 "nbformat_minor": 2
}
